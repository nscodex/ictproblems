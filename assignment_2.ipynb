{
  "nbformat": 4,
  "nbformat_minor": 0,
  "metadata": {
    "colab": {
      "provenance": []
    },
    "kernelspec": {
      "name": "python3",
      "display_name": "Python 3"
    },
    "language_info": {
      "name": "python"
    }
  },
  "cells": [
    {
      "cell_type": "code",
      "source": [
        "import random\n",
        "secret_number=random.randint(1,9)\n",
        "print(\"GUESS A NUMBER BETWEEN 1-10\")\n",
        "i=1\n",
        "while i:\n",
        "     guess=int(input(\"Enter your guess  \"))\n",
        "     if guess==secret_number:\n",
        "        print(\"CONGRATULATIONS, YOU MADE THE CORRECT GUESS\")\n",
        "        break\n",
        "     elif guess>secret_number:\n",
        "        print(\"TOO HIGH!!!\")\n",
        "     else:\n",
        "        print(\"TOO LOW!!!\")\n",
        "\n",
        "\n"
      ],
      "metadata": {
        "colab": {
          "base_uri": "https://localhost:8080/"
        },
        "id": "N7zRTMAAMg64",
        "outputId": "57b729bd-1e09-4432-c3ec-4158fcf05d0a"
      },
      "execution_count": null,
      "outputs": [
        {
          "output_type": "stream",
          "name": "stdout",
          "text": [
            "GUESS A NUMBER BETWEEN 1-10\n",
            "Enter your guess  4\n",
            "TOO HIGH!!!\n",
            "Enter your guess  3\n",
            "CONGRATULATIONS\n"
          ]
        }
      ]
    },
    {
      "cell_type": "code",
      "source": [
        "def factorial(n):\n",
        "  fact=0\n",
        "  if n==0:\n",
        "    fact=1\n",
        "  else:\n",
        "    fact=n*factorial(n-1)\n",
        "  return fact\n",
        "factorial(secret_number)"
      ],
      "metadata": {
        "colab": {
          "base_uri": "https://localhost:8080/"
        },
        "id": "iO1KQnNiWMA7",
        "outputId": "306623cb-1083-40fe-cefd-a9abb952d090"
      },
      "execution_count": null,
      "outputs": [
        {
          "output_type": "execute_result",
          "data": {
            "text/plain": [
              "120"
            ]
          },
          "metadata": {},
          "execution_count": 25
        }
      ]
    },
    {
      "cell_type": "code",
      "source": [
        "\n",
        "n=int(input(\"enter the no. of pics u have\"))\n",
        "l=4\n",
        "for i in range(1,n+1):\n",
        "  w=int(input(\"enter the width of the pic\"))\n",
        "  h=int(input(\"enter the height of the pic\"))\n",
        "  if w < l or h < l:\n",
        "    if i==n:\n",
        "      print(\"sorry u are out of pics\")\n",
        "      break\n",
        "    else:\n",
        "     print(\"UPLOAD ANOTHER PIC\")\n",
        "  elif w==h:\n",
        "    print(\"ACCEPTED\")\n",
        "    break\n",
        "  else:\n",
        "    print(\"CROP IT\")"
      ],
      "metadata": {
        "id": "dbsN2s-sZrCA",
        "colab": {
          "base_uri": "https://localhost:8080/"
        },
        "outputId": "217225e7-d419-4aec-d8d4-e2074bde49a9"
      },
      "execution_count": 2,
      "outputs": [
        {
          "output_type": "stream",
          "name": "stdout",
          "text": [
            "enter the no. of pics u have4\n",
            "enter the width of the pic5\n",
            "enter the height of the pic6\n",
            "CROP IT\n",
            "enter the width of the pic4\n",
            "enter the height of the pic3\n",
            "upload another pic\n",
            "enter the width of the pic5\n",
            "enter the height of the pic5\n",
            "ACCEPTED\n"
          ]
        }
      ]
    }
  ]
}