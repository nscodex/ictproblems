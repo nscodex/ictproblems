{
  "nbformat": 4,
  "nbformat_minor": 0,
  "metadata": {
    "colab": {
      "provenance": []
    },
    "kernelspec": {
      "name": "python3",
      "display_name": "Python 3"
    },
    "language_info": {
      "name": "python"
    }
  },
  "cells": [
    {
      "cell_type": "code",
      "execution_count": 18,
      "metadata": {
        "colab": {
          "base_uri": "https://localhost:8080/"
        },
        "id": "mgzBndSgx2xr",
        "outputId": "4e0d8d86-c4fa-417d-ee06-f33811e7aa1a"
      },
      "outputs": [
        {
          "output_type": "stream",
          "name": "stdout",
          "text": [
            "THE STRING AFTER DELETING INDEX 4 IS: The ay has been long\n",
            "PRINTING THE STRING 4 TIMES WITH SPACE\n",
            "The ay has been long The ay has been long The ay has been long The ay has been long \n",
            "PRINTING THE STRING 3 TIMES IN NEXT LINE\n",
            "\n",
            " The ay has been long\n",
            "\n",
            " The ay has been long\n",
            "\n",
            " The ay has been long\n",
            "STRING AFTER REPLACING INDEX(7) BY 'A':\t The ay Aas been long\n",
            "STRING FROM INDEX 4-15 BY 'A':\t ay Aas been \n",
            "LENGTH OF STRING':\t 20\n"
          ]
        }
      ],
      "source": [
        "#PROBLEM NO 5\n",
        "#Consider a string ”The day has been long”.\n",
        "#(a) Delete the value at index =4\n",
        "#(b) Print the string 4 times in a single line with space between each repetition\n",
        "#(c) Print the string 3 times in a new line each time\n",
        "#(d) Modify the string at index 7 as ’A’\n",
        "#(e)Print the string from index 4 to 15\n",
        "#(f) Print the final string with its length\n",
        "\n",
        "string1=\"The day has been long\"\n",
        "string2=string1[0:4]\n",
        "string3=string1[5:]\n",
        "string1=string2+string3\n",
        "print(\"THE STRING AFTER DELETING INDEX 4 IS:\", string1)\n",
        "print(\"PRINTING THE STRING 4 TIMES WITH SPACE\")\n",
        "for i in range(4):\n",
        "  print(string1,end=\" \")\n",
        "print(\"\\nPRINTING THE STRING 3 TIMES IN NEXT LINE\")\n",
        "for i in range(3):\n",
        "  print(\"\\n\",string1)\n",
        "any=list(string1)\n",
        "any[7]='A'\n",
        "string1=\"\".join(any)\n",
        "print(\"STRING AFTER REPLACING INDEX(7) BY 'A':\\t\",string1)\n",
        "print(\"STRING FROM INDEX 4-15 BY 'A':\\t\",string1[4:16])\n",
        "print(\"LENGTH OF STRING':\\t\",len(string1))"
      ]
    },
    {
      "cell_type": "code",
      "source": [
        "#PROBLEM 4\n",
        "# Consider listA=[19,32,10,55,31,32,94,29,10,65,77,40,40]\n",
        "#(a) Delete the first occurrence of 32\n",
        "#(b) Delete all occurrences of 40\n",
        "#(c) Delete the value at index=5\n",
        "#(d) Modify the value at index=9 as 300\n",
        "#(e) Add 200 at index=2\n",
        "#(f) Print the final list with its length, maximum value and sum of all elements\n",
        "\n",
        "listA=[19,32,10,55,31,32,94,29,10,65,77,40,40]\n",
        "print(\"ORIGINAL LIST:\\t\\t\",listA)\n",
        "listA.remove(32)\n",
        "print(\"LIST AFTER DELETING FIRST OCCURENCE OF 32:\\t\",listA)\n",
        "\n",
        "#(b) Delete all occurrences of 40\n",
        "count=listA.count(40)\n",
        "for i in range(count):\n",
        "  listA.remove(40)\n",
        "print(\"LIST AFTER REMOVING ALL OCCURENCE OF 40:\\t\",listA)\n",
        "\n",
        "# Delete the value at index=5\n",
        "del listA[5]\n",
        "print(\"LIST AFTER DELETING VALUE AT INDEX 5:\\t\",listA)\n",
        "\n",
        "#Modify the value at index=9 as 300\n",
        "listA.append(55)\n",
        "print(\"LIST AFTER APPENDING A VALUE:\\t\",listA)#appending as there is no index 9 value\n",
        "listA[9]=300\n",
        "print(\"LIST AFTER MODIFYING INDEX 9:\\t\",listA)\n",
        "\n",
        "#Add 200 at index=2\n",
        "listA[2]=listA[2]+300\n",
        "print(\"LIST AFTER ADDING 200:\\t\",listA)\n",
        "\n",
        "#Print the final list with its length, maximum value, sum of elements in list\n",
        "print(\"FINAL LIST:\\t\",listA)\n",
        "print(\"LENGTH OF THE FINAL LIST:\\t\",len(listA))\n",
        "print(\"MAX VALUE IN THE FINAL LIST:\\t\",max(listA))\n",
        "sum=0\n",
        "for i in listA:\n",
        "  sum=sum+i\n",
        "print(\"SUM OF ELEMENTS IN LIST:  \",sum)"
      ],
      "metadata": {
        "colab": {
          "base_uri": "https://localhost:8080/"
        },
        "id": "oClb47BR25fc",
        "outputId": "eefc8384-201e-48f9-863a-f56334a17fa8"
      },
      "execution_count": 13,
      "outputs": [
        {
          "output_type": "stream",
          "name": "stdout",
          "text": [
            "ORIGINAL LIST:\t\t [19, 32, 10, 55, 31, 32, 94, 29, 10, 65, 77, 40, 40]\n",
            "LIST AFTER DELETING FIRST OCCURENCE OF 32:\t [19, 10, 55, 31, 32, 94, 29, 10, 65, 77, 40, 40]\n",
            "LIST AFTER REMOVING ALL OCCURENCE OF 40:\t [19, 10, 55, 31, 32, 94, 29, 10, 65, 77]\n",
            "LIST AFTER DELETING VALUE AT INDEX 5:\t [19, 10, 55, 31, 32, 29, 10, 65, 77]\n",
            "LIST AFTER APPENDING A VALUE:\t [19, 10, 55, 31, 32, 29, 10, 65, 77, 55]\n",
            "LIST AFTER MODIFYING INDEX 9:\t [19, 10, 55, 31, 32, 29, 10, 65, 77, 300]\n",
            "LIST AFTER ADDING 200:\t [19, 10, 355, 31, 32, 29, 10, 65, 77, 300]\n",
            "FINAL LIST:\t [19, 10, 355, 31, 32, 29, 10, 65, 77, 300]\n",
            "LENGTH OF THE FINAL LIST:\t 10\n",
            "MAX VALUE IN THE FINAL LIST:\t 355\n",
            "SUM OF ELEMENTS IN LIST:   928\n"
          ]
        }
      ]
    },
    {
      "cell_type": "code",
      "source": [
        "#PROBLEM 3\n",
        "#Write a program to enter a tuple of integers as (78,45,32,19,82,77,40,39). Change the third value in the tuple to 100\n",
        "\n",
        "a=(78,45,32,19,82,77,40,39)\n",
        "b=[]\n",
        "print(a[2])\n",
        "for i in a:\n",
        "  b.append(i)\n",
        "b[2]=100\n",
        "a=tuple(b)\n",
        "print(a)"
      ],
      "metadata": {
        "colab": {
          "base_uri": "https://localhost:8080/"
        },
        "id": "4UFktl2E3paz",
        "outputId": "14165164-bdcf-44dd-b7e8-92b8beb216ce"
      },
      "execution_count": 15,
      "outputs": [
        {
          "output_type": "stream",
          "name": "stdout",
          "text": [
            "32\n",
            "(78, 45, 100, 19, 82, 77, 40, 39)\n"
          ]
        }
      ]
    },
    {
      "cell_type": "code",
      "source": [
        "#PROBLEM 2\n",
        "#Input a sentence as a string.  a) Print its length  b) Print the first half of string\n",
        "str=\"This is problem2\"\n",
        "print(\"length of string: \" ,len(str))\n",
        "half=len(str)//2\n",
        "print(\"Half of the string is:\",str[0:half])"
      ],
      "metadata": {
        "colab": {
          "base_uri": "https://localhost:8080/"
        },
        "id": "cMJNAITB4GLL",
        "outputId": "7226001b-3e07-4d4d-8140-500a5ce36c0d"
      },
      "execution_count": 16,
      "outputs": [
        {
          "output_type": "stream",
          "name": "stdout",
          "text": [
            "length of string:  16\n",
            "Half of the string is: This is \n"
          ]
        }
      ]
    },
    {
      "cell_type": "code",
      "source": [
        "#PROBLEM 1\n",
        "#Write a program to find sum of all elements in a list of integers.\n",
        "numbers=[12,3,4,6,7,89,90]\n",
        "sum=0\n",
        "for i in numbers:\n",
        "  sum=sum+i\n",
        "print(\"SUM OF ELEMENTS IN LIST:  \",sum)"
      ],
      "metadata": {
        "colab": {
          "base_uri": "https://localhost:8080/"
        },
        "id": "iZRoduLF4XOz",
        "outputId": "77e03a44-90c0-40d2-c3d8-c2538fe61c9c"
      },
      "execution_count": 17,
      "outputs": [
        {
          "output_type": "stream",
          "name": "stdout",
          "text": [
            "SUM OF ELEMENTS IN LIST:   211\n"
          ]
        }
      ]
    }
  ]
}