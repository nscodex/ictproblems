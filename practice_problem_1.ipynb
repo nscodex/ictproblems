{
  "nbformat": 4,
  "nbformat_minor": 0,
  "metadata": {
    "colab": {
      "provenance": []
    },
    "kernelspec": {
      "name": "python3",
      "display_name": "Python 3"
    },
    "language_info": {
      "name": "python"
    }
  },
  "cells": [
    {
      "cell_type": "code",
      "execution_count": 1,
      "metadata": {
        "colab": {
          "base_uri": "https://localhost:8080/"
        },
        "id": "q8sKM6MFRsci",
        "outputId": "10ec73cb-d2df-4de4-ea08-297731c6009c"
      },
      "outputs": [
        {
          "output_type": "stream",
          "name": "stdout",
          "text": [
            "Hello\n"
          ]
        }
      ],
      "source": [
        "'''Given the string \"Hello, World!\", extract and print the\n",
        "substring \"Hello\". '''\n",
        "\n",
        "str=\"Hello, World!\"\n",
        "print(str[0:5])"
      ]
    },
    {
      "cell_type": "code",
      "source": [
        "'''Given the string \"Python is fun\", extract and print the\n",
        "substring \"is\". '''\n",
        "\n",
        "str=\"Python is fun\"\n",
        "print(str[7:9])"
      ],
      "metadata": {
        "colab": {
          "base_uri": "https://localhost:8080/"
        },
        "id": "DTQyLYFQSeQB",
        "outputId": "6fdd5b87-e4a0-4ffc-845c-b6dddcdc8c85"
      },
      "execution_count": 2,
      "outputs": [
        {
          "output_type": "stream",
          "name": "stdout",
          "text": [
            "is\n"
          ]
        }
      ]
    },
    {
      "cell_type": "code",
      "source": [
        "'''Given the string \"Programming\", extract and print the\n",
        "substring \"gram\" using slicing indices. '''\n",
        "\n",
        "str=\"Programming\"\n",
        "print(str[3:7])"
      ],
      "metadata": {
        "colab": {
          "base_uri": "https://localhost:8080/"
        },
        "id": "IPREQUJDS2NN",
        "outputId": "e5189d89-62e3-4ada-c9ff-1000e995552f"
      },
      "execution_count": 3,
      "outputs": [
        {
          "output_type": "stream",
          "name": "stdout",
          "text": [
            "gram\n"
          ]
        }
      ]
    },
    {
      "cell_type": "code",
      "source": [
        "'''Given the string \"abcdefgh\", use slicing to print only the\n",
        "characters at even indices. '''\n",
        "\n",
        "str=\"abcdefgh\"\n",
        "print(str[0::2])"
      ],
      "metadata": {
        "colab": {
          "base_uri": "https://localhost:8080/"
        },
        "id": "SnBzZCYZTYXh",
        "outputId": "b176e456-0288-4357-aa3d-20741d03d09e"
      },
      "execution_count": 4,
      "outputs": [
        {
          "output_type": "stream",
          "name": "stdout",
          "text": [
            "aceg\n"
          ]
        }
      ]
    },
    {
      "cell_type": "code",
      "source": [
        "''' Given the string \"abcdefg\", use negative indices to extract\n",
        "and print the substring \"efg\". '''\n",
        "\n",
        "str=\"abcdefg\"\n",
        "print(str[-3:])"
      ],
      "metadata": {
        "colab": {
          "base_uri": "https://localhost:8080/"
        },
        "id": "-J-UChDdTt-7",
        "outputId": "f458f218-de4e-49b9-d10a-52adb85db0f9"
      },
      "execution_count": 13,
      "outputs": [
        {
          "output_type": "stream",
          "name": "stdout",
          "text": [
            "efg\n"
          ]
        }
      ]
    },
    {
      "cell_type": "code",
      "source": [
        "''' Given the string \"Data Science\", use negative indices to\n",
        "extract and print the last three characters. '''\n",
        "\n",
        "str=\"Data Science\"\n",
        "print(str[-3:])"
      ],
      "metadata": {
        "colab": {
          "base_uri": "https://localhost:8080/"
        },
        "id": "Nhi0ompoUwy7",
        "outputId": "2ee71734-9eaa-4048-9bf1-bd3477c3440c"
      },
      "execution_count": 14,
      "outputs": [
        {
          "output_type": "stream",
          "name": "stdout",
          "text": [
            "nce\n"
          ]
        }
      ]
    },
    {
      "cell_type": "code",
      "source": [
        "''' Given the string \"abcdefghij\", use slicing with a step to\n",
        "print every second character. '''\n",
        "\n",
        "str=\"abcdefghij\"\n",
        "print(str[1::2])"
      ],
      "metadata": {
        "colab": {
          "base_uri": "https://localhost:8080/"
        },
        "id": "bYjyYdBqVC6H",
        "outputId": "3f99ed43-effc-43dd-c490-edddd674a647"
      },
      "execution_count": 15,
      "outputs": [
        {
          "output_type": "stream",
          "name": "stdout",
          "text": [
            "bdfhj\n"
          ]
        }
      ]
    },
    {
      "cell_type": "code",
      "source": [
        "'''Given the string \"1234567890\", use slicing with a step to\n",
        "print the odd digits. '''\n",
        "\n",
        "str=\"1234567890\"\n",
        "print(str[0::2])"
      ],
      "metadata": {
        "colab": {
          "base_uri": "https://localhost:8080/"
        },
        "id": "upk569w7VcW4",
        "outputId": "ff317936-4cb8-480d-dc4e-e27c33261f8e"
      },
      "execution_count": 16,
      "outputs": [
        {
          "output_type": "stream",
          "name": "stdout",
          "text": [
            "13579\n"
          ]
        }
      ]
    },
    {
      "cell_type": "code",
      "source": [
        "''' Given the string \"Hello\", use slicing to print the string in\n",
        "reverse order. '''\n",
        "\n",
        "str=\"Hello\"\n",
        "print(str[::-1])"
      ],
      "metadata": {
        "colab": {
          "base_uri": "https://localhost:8080/"
        },
        "id": "800WL8hYVtOW",
        "outputId": "ffd1eb9d-8497-4050-afd0-c4864cdebe57"
      },
      "execution_count": 18,
      "outputs": [
        {
          "output_type": "stream",
          "name": "stdout",
          "text": [
            "olleH\n"
          ]
        }
      ]
    },
    {
      "cell_type": "code",
      "source": [
        "'''Given the string \"abcdefghijk\", extract and print the\n",
        "substring \"acegik\" using slicing. '''\n",
        "\n",
        "str=\"abcdefghijk\"\n",
        "print(str[0::2])"
      ],
      "metadata": {
        "colab": {
          "base_uri": "https://localhost:8080/"
        },
        "id": "cng5lRytWkbf",
        "outputId": "29a12649-2ed6-416c-cf41-aa8f842ee158"
      },
      "execution_count": 19,
      "outputs": [
        {
          "output_type": "stream",
          "name": "stdout",
          "text": [
            "acegik\n"
          ]
        }
      ]
    }
  ]
}