{
  "nbformat": 4,
  "nbformat_minor": 0,
  "metadata": {
    "colab": {
      "provenance": []
    },
    "kernelspec": {
      "name": "python3",
      "display_name": "Python 3"
    },
    "language_info": {
      "name": "python"
    }
  },
  "cells": [
    {
      "cell_type": "code",
      "execution_count": 15,
      "metadata": {
        "colab": {
          "base_uri": "https://localhost:8080/"
        },
        "id": "PeiidsSsUaBR",
        "outputId": "9d4077da-1a83-4805-8535-a2993bc74b7e"
      },
      "outputs": [
        {
          "output_type": "stream",
          "name": "stdout",
          "text": [
            "enter the word  madam\n",
            "palindrome\n"
          ]
        }
      ],
      "source": [
        "#check if the input string is palindrome or not\n",
        "def ispal(s):\n",
        "  if s==s[::-1]:\n",
        "    return True\n",
        "  else:\n",
        "    return False\n",
        "name=input(\"enter the word  \")\n",
        "if ispal(name)== True:\n",
        "  print(\"palindrome\")\n",
        "else:\n",
        "  print(\"not palindrome\")\n"
      ]
    },
    {
      "cell_type": "code",
      "source": [
        "#program to check if the input number is divisible by 9\n",
        "num=int(input(\"enter the number \"))\n",
        "if num % 9==0:\n",
        "  print(num,\"is divisible by 9\")\n",
        "else:\n",
        "  print(num,\"is not divisible by 9\")"
      ],
      "metadata": {
        "colab": {
          "base_uri": "https://localhost:8080/"
        },
        "id": "H8yngxMNqLrP",
        "outputId": "1871c553-ee42-4bc7-dfa8-b27ac9c15f0a"
      },
      "execution_count": 17,
      "outputs": [
        {
          "output_type": "stream",
          "name": "stdout",
          "text": [
            "enter the number 78\n",
            "78 is not divisible by 9\n"
          ]
        }
      ]
    },
    {
      "cell_type": "code",
      "source": [
        "#program to print odd numbers between 300 and 500\n",
        "for i in range(300,501):\n",
        "  if i % 2!=0:\n",
        "    print(i,end=\" \")"
      ],
      "metadata": {
        "colab": {
          "base_uri": "https://localhost:8080/"
        },
        "id": "Fk7DFwtTrVTv",
        "outputId": "88554b31-6f28-4424-e826-6f90f2c76f4b"
      },
      "execution_count": 20,
      "outputs": [
        {
          "output_type": "stream",
          "name": "stdout",
          "text": [
            "301 303 305 307 309 311 313 315 317 319 321 323 325 327 329 331 333 335 337 339 341 343 345 347 349 351 353 355 357 359 361 363 365 367 369 371 373 375 377 379 381 383 385 387 389 391 393 395 397 399 401 403 405 407 409 411 413 415 417 419 421 423 425 427 429 431 433 435 437 439 441 443 445 447 449 451 453 455 457 459 461 463 465 467 469 471 473 475 477 479 481 483 485 487 489 491 493 495 497 499 "
          ]
        }
      ]
    },
    {
      "cell_type": "code",
      "source": [
        "#program to get two numbers from user and find their sum,difference,product,quotient\n",
        "num1=float(input(\"enter first number\"))\n",
        "num2=float(input(\"enter second number\"))\n",
        "print(f\" SUM:  {num1+num2}\\n DIFFERENCE: {num1-num2}\\n PRODUCT:  {num1*num2}\\n QUOTIENT: {(num1/num2)} \")"
      ],
      "metadata": {
        "colab": {
          "base_uri": "https://localhost:8080/"
        },
        "id": "A13qJAtFsMuu",
        "outputId": "4fe5c422-84eb-4835-a4a8-171bbcad0526"
      },
      "execution_count": 26,
      "outputs": [
        {
          "output_type": "stream",
          "name": "stdout",
          "text": [
            "enter first number34\n",
            "enter second number67\n",
            " SUM:  101.0\n",
            " DIFFERENCE: -33.0\n",
            " PRODUCT:  2278.0\n",
            " QUOTIENT: 0.5074626865671642 \n"
          ]
        }
      ]
    },
    {
      "cell_type": "code",
      "source": [
        "#python function to find the product of 2 numbers\n",
        "def product(a,b):\n",
        "  return a*b\n",
        "num1=int(input(\"enter first number\"))\n",
        "num2=int(input(\"enter second number\"))\n",
        "product(num1,num2)"
      ],
      "metadata": {
        "colab": {
          "base_uri": "https://localhost:8080/"
        },
        "id": "qQxy_WCpudwR",
        "outputId": "80794453-ecda-458c-e2b3-5ed63a175fd9"
      },
      "execution_count": 28,
      "outputs": [
        {
          "name": "stdout",
          "output_type": "stream",
          "text": [
            "enter first number28\n",
            "enter second number10\n"
          ]
        },
        {
          "output_type": "execute_result",
          "data": {
            "text/plain": [
              "280"
            ]
          },
          "metadata": {},
          "execution_count": 28
        }
      ]
    }
  ]
}
