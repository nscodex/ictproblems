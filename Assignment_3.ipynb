{
  "nbformat": 4,
  "nbformat_minor": 0,
  "metadata": {
    "colab": {
      "provenance": []
    },
    "kernelspec": {
      "name": "python3",
      "display_name": "Python 3"
    },
    "language_info": {
      "name": "python"
    }
  },
  "cells": [
    {
      "cell_type": "code",
      "execution_count": null,
      "metadata": {
        "colab": {
          "base_uri": "https://localhost:8080/"
        },
        "id": "3qrkmmDUaT4C",
        "outputId": "d68b4b8a-f127-475a-f4e1-9637a414337f"
      },
      "outputs": [
        {
          "output_type": "stream",
          "name": "stdout",
          "text": [
            "enter first number39\n",
            "enter second number28\n",
            "enter third number42\n",
            "39\n"
          ]
        }
      ],
      "source": [
        "# find the middle value of 3 no.s\n",
        "def mid_num(a,b,c):\n",
        "  list1=[a,b,c]\n",
        "  list1.sort()\n",
        "  print(list1[1])\n",
        "a=int(input(\"enter first number\"))\n",
        "b=int(input(\"enter second number\"))\n",
        "c=int(input(\"enter third number\"))\n",
        "mid_num(a,b,c)"
      ]
    },
    {
      "cell_type": "code",
      "source": [
        "#write a calculator program using functions\n",
        "def add(num1,num2):\n",
        "  return num1+num2\n",
        "def sub(num1,num2):\n",
        "  return num1-num2\n",
        "def mul(num1,num2):\n",
        "  return num1*num2\n",
        "def div(num1,num2):\n",
        "  return num1/num2\n",
        "print(\"\\t\\t\\t\\t         CALCULATOR        \\n\")\n",
        "num1=int(input(\"enter the first number \"))\n",
        "num2=int(input(\"enter the second number\"))\n",
        "while (True):\n",
        "  print(\"enter the operation\")\n",
        "  print(\"1.\\tADDITION\")\n",
        "  print(\"2.\\tSUBTRACTION\")\n",
        "  print(\"3.\\tMULTIPLICATION\")\n",
        "  print(\"4.\\tDIVISION\")\n",
        "  print(\"5.\\tEXIT\")\n",
        "  print(\"6.\\tCHANGE THE NUMBER\")\n",
        "  choice=int(input(\"enter your choice\"))\n",
        "  if choice==1:\n",
        "      print(num1, '+' ,num2,'=' ,add(num1,num2))\n",
        "  elif choice==2:\n",
        "      print(num1, '-', num2,'=' ,sub(num1,num2))\n",
        "  elif choice==3:\n",
        "      print(num1, '*' ,num2, '=' ,mul(num1,num2))\n",
        "  elif choice==4:\n",
        "      print(num1, '/', num2, '=',div(num1,num2))\n",
        "  elif choice==5:\n",
        "      print(\"THANK YOU\")\n",
        "      break;\n",
        "  elif choice==6:\n",
        "      num1=int(input(\"enter the first number \"))\n",
        "      num2=int(input(\"enter the second number\"))\n",
        "  else:\n",
        "      print(\"please enter correct choice \\t\")"
      ],
      "metadata": {
        "colab": {
          "base_uri": "https://localhost:8080/"
        },
        "id": "4v-raye0dTxG",
        "outputId": "aad2fba6-e5a0-4a8e-dbba-ed13fa5a141a"
      },
      "execution_count": null,
      "outputs": [
        {
          "output_type": "stream",
          "name": "stdout",
          "text": [
            "\t\t\t\t         CALCULATOR        \n",
            "\n",
            "enter the first number 23\n",
            "enter the second number56\n",
            "enter the operation\n",
            "1.\tADDITION\n",
            "2.\tSUBTRACTION\n",
            "3.\tMULTIPLICATION\n",
            "4.\tDIVISION\n",
            "5.\tEXIT\n",
            "6.\tCHANGE THE NUMBER\n",
            "enter your choice1\n",
            "23 + 56 = 79\n",
            "enter the operation\n",
            "1.\tADDITION\n",
            "2.\tSUBTRACTION\n",
            "3.\tMULTIPLICATION\n",
            "4.\tDIVISION\n",
            "5.\tEXIT\n",
            "6.\tCHANGE THE NUMBER\n",
            "enter your choice2\n",
            "23 - 56 = -33\n",
            "enter the operation\n",
            "1.\tADDITION\n",
            "2.\tSUBTRACTION\n",
            "3.\tMULTIPLICATION\n",
            "4.\tDIVISION\n",
            "5.\tEXIT\n",
            "6.\tCHANGE THE NUMBER\n",
            "enter your choice3\n",
            "23 * 56 = 1288\n",
            "enter the operation\n",
            "1.\tADDITION\n",
            "2.\tSUBTRACTION\n",
            "3.\tMULTIPLICATION\n",
            "4.\tDIVISION\n",
            "5.\tEXIT\n",
            "6.\tCHANGE THE NUMBER\n",
            "enter your choice4\n",
            "23 / 56 = 0.4107142857142857\n",
            "enter the operation\n",
            "1.\tADDITION\n",
            "2.\tSUBTRACTION\n",
            "3.\tMULTIPLICATION\n",
            "4.\tDIVISION\n",
            "5.\tEXIT\n",
            "6.\tCHANGE THE NUMBER\n",
            "enter your choice6\n",
            "enter the first number 67\n",
            "enter the second number90\n",
            "enter the operation\n",
            "1.\tADDITION\n",
            "2.\tSUBTRACTION\n",
            "3.\tMULTIPLICATION\n",
            "4.\tDIVISION\n",
            "5.\tEXIT\n",
            "6.\tCHANGE THE NUMBER\n",
            "enter your choice1\n",
            "67 + 90 = 157\n",
            "enter the operation\n",
            "1.\tADDITION\n",
            "2.\tSUBTRACTION\n",
            "3.\tMULTIPLICATION\n",
            "4.\tDIVISION\n",
            "5.\tEXIT\n",
            "6.\tCHANGE THE NUMBER\n",
            "enter your choice5\n",
            "THANK YOU\n"
          ]
        }
      ]
    },
    {
      "cell_type": "code",
      "source": [
        "#3. FUNCTION TO FIND THE HYPOTENUSE OF THE TRIANGLE\n",
        "import math\n",
        "def hypotenuse(a,b):\n",
        "  c=a*a+b*b\n",
        "  return math.sqrt(c)\n",
        "a=int(input(\"enter the first side of the triangle \"))\n",
        "b=int(input(\"enter the second side of the triangle \"))\n",
        "print(\"HYPOTENUSE =\",hypotenuse(a,b))"
      ],
      "metadata": {
        "colab": {
          "base_uri": "https://localhost:8080/"
        },
        "id": "pNJk7NFWdalp",
        "outputId": "da68d2bc-db47-414d-eb37-9b11d1240b26"
      },
      "execution_count": null,
      "outputs": [
        {
          "output_type": "stream",
          "name": "stdout",
          "text": [
            "enter the first side of the triangle 9\n",
            "enter the second side of the triangle 12\n",
            "HYPOTENUSE = 15.0\n"
          ]
        }
      ]
    },
    {
      "cell_type": "code",
      "source": [
        "#4. THE RECTANGLE PROBLEM\n",
        "class rectangle:\n",
        "  def __init__(self,length,width):\n",
        "    self.length=length\n",
        "    self.width=width\n",
        "    self.perimeter\n",
        "    self.area\n",
        "  def perimeter(self):\n",
        "    self.perimeter=(self.length+self.width)*2\n",
        "  def area(self,):\n",
        "    self.area=self.length*self.width\n",
        "  def display(self):\n",
        "    print(\"LENGTH=\",self.length)\n",
        "    print(\"WIDTH=\",self.width)\n",
        "    print(\"PERIMETER=\",self.perimeter)\n",
        "    print(\"AREA=\",self.area)\n",
        "x=rectangle(59,27)\n",
        "x.perimeter()\n",
        "x.area()\n",
        "x.display()"
      ],
      "metadata": {
        "colab": {
          "base_uri": "https://localhost:8080/"
        },
        "id": "Rob6a62Vlbcg",
        "outputId": "0759cda6-3211-4f10-d882-839f7d35cc02"
      },
      "execution_count": null,
      "outputs": [
        {
          "output_type": "stream",
          "name": "stdout",
          "text": [
            "LENGTH= 59\n",
            "WIDTH= 27\n",
            "PERIMETER= 172\n",
            "AREA= 1593\n"
          ]
        }
      ]
    },
    {
      "cell_type": "code",
      "source": [
        "#5. THE BANKING PROBLEM\n",
        "class bank:\n",
        "  def __init__(self):\n",
        "    self.accno=int(input(\"enter the accno\\t\" ))\n",
        "    self.name=input(\"enter the name\\t\" )\n",
        "    self.balance=0\n",
        "  def deposit(self):\n",
        "    self.depositamt=float(input(\"enter the amount to be deposited\\t\"))\n",
        "    self.balance+=self.depositamt\n",
        "  def withdrawal(self):\n",
        "    self.withamt=float(input(\"enter the amount to be withdrawn\\t\"))\n",
        "    self.balance=self.balance-self.withamt\n",
        "  def bankfees(self):\n",
        "    self.balance=self.balance-(0.05*self.balance) #bank fees deducted from balance\n",
        "  def display(self):\n",
        "    print(f\"ACCOUNT NUMBER\",self.accno)\n",
        "    print(f\"ACCOUNT HOLDER NAME\",self.name)\n",
        "    print(f\"CURRENT BALANCE:\",self.balance)\n",
        "x= bank()\n",
        "x.deposit()\n",
        "x.withdrawal()\n",
        "x.bankfees()\n",
        "x.display()\n"
      ],
      "metadata": {
        "id": "6Xr1vqm2rXet",
        "colab": {
          "base_uri": "https://localhost:8080/"
        },
        "outputId": "55e32881-3e5d-468c-8c6b-a26e824e8dd5"
      },
      "execution_count": 7,
      "outputs": [
        {
          "output_type": "stream",
          "name": "stdout",
          "text": [
            "enter the accno\t7890\n",
            "enter the name\tneelu\n",
            "enter the amount to be deposited\t25000\n",
            "enter the amount to be withdrawn\t10000\n",
            "ACCOUNT NUMBER 7890\n",
            "ACCOUNT HOLDER NAME neelu\n",
            "CURRENT BALANCE: 14250.0\n"
          ]
        }
      ]
    }
  ]
}