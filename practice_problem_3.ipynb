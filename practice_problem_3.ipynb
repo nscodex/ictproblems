{
  "nbformat": 4,
  "nbformat_minor": 0,
  "metadata": {
    "colab": {
      "provenance": []
    },
    "kernelspec": {
      "name": "python3",
      "display_name": "Python 3"
    },
    "language_info": {
      "name": "python"
    }
  },
  "cells": [
    {
      "cell_type": "code",
      "execution_count": 6,
      "metadata": {
        "colab": {
          "base_uri": "https://localhost:8080/"
        },
        "id": "ahEcjRuizzea",
        "outputId": "9e0c43a3-41bd-410d-f5e1-6cbadd2320c6"
      },
      "outputs": [
        {
          "output_type": "stream",
          "name": "stdout",
          "text": [
            "Enter the number of values: 7\n",
            "Enter value 1: 78\n",
            "Enter value 2: 89\n",
            "Enter value 3: 70\n",
            "Enter value 4: 96\n",
            "Enter value 5: 57\n",
            "Enter value 6: 45\n",
            "Enter value 7: 99\n",
            "None\n",
            "RUNNER UP SCORE IS : 96\n"
          ]
        }
      ],
      "source": [
        "#PRINT RUNNER UP SCORE\n",
        "score = []\n",
        "n = int(input(\"Enter the number of values: \"))\n",
        "for i in range(n):\n",
        "    value = input(f\"Enter value {i+1}: \")\n",
        "    score.append(value)\n",
        "score.sort()\n",
        "print(\"RUNNER UP SCORE IS :\",score[-2])"
      ]
    },
    {
      "cell_type": "code",
      "source": [
        "#'''A dictionary is given D={‘John’ [25,32,43],’Peter’:[87,55,96],’Ram’:[58,55,43],’Meena’:[63,79,85]}\n",
        "#Get a name from user if the name in the dictionary change the values corresponding to\n",
        "#that user to [88,77,99] and print the dictionary. Else print ‘Name not found’. '''\n",
        "\n",
        "D={\"john\":[25,32,43],\"peter\":[87,55,96],\"ram\":[58,55,43],\"meena\":[63,79,85]}\n",
        "name=input(\"enter the name  \")\n",
        "if name.lower() in D:\n",
        "  D[name.lower()]=[88,77,99]\n",
        "  print(D)\n",
        "else:\n",
        "  print(\"Name not found\")"
      ],
      "metadata": {
        "colab": {
          "base_uri": "https://localhost:8080/"
        },
        "id": "MEKdSbH52VwT",
        "outputId": "0563ace8-6a8a-4958-d035-89ed1f4cc0b2"
      },
      "execution_count": 13,
      "outputs": [
        {
          "output_type": "stream",
          "name": "stdout",
          "text": [
            "enter the name  Meena\n",
            "{'john': [25, 32, 43], 'peter': [87, 55, 96], 'ram': [58, 55, 43], 'meena': [88, 77, 99]}\n"
          ]
        }
      ]
    },
    {
      "cell_type": "code",
      "source": [
        "'''Ticket Price Calculator:\n",
        "I.\n",
        "Ask the user to enter their age.\n",
        "II.\n",
        "Use control statements (if-elif-else) to calculate the ticket price based on the\n",
        "following conditions:\n",
        "a. If the age is below 5, the ticket price is free.\n",
        "b. If the age is between 5 and 12 (inclusive), the ticket price is Rs.10.\n",
        "c. If the age is above 12, the ticket price is Rs.50.\n",
        "d. If the age is above 60, the ticket price is free.\n",
        "e. If the gender is female, the ticket price is 50% of the applicable rates.\n",
        "III.\n",
        "Display the ticket price to the user.'''\n",
        "while(True):\n",
        "  age=int(input(\"ENTER THE AGE or PRESS 0 to exit\\t\"))\n",
        "  if age==0:\n",
        "    break\n",
        "  elif age<5 or age >60:\n",
        "    print(\"TICKET IS FREE\")\n",
        "  else:\n",
        "    gender=input(\"ENTER YOUR GENDER(m/f)\\t\")\n",
        "    if gender=='f':\n",
        "      if age <=12:\n",
        "        print(\"TICKET PRICE IS Rs.5\")\n",
        "      elif age<=60:\n",
        "        print(\"TICKET PRICE IS Rs.25\")\n",
        "    elif gender=='m':\n",
        "      if age<=12:\n",
        "        print(\"TICKET PRICE IS Rs.10\")\n",
        "      elif age<=60:\n",
        "        print(\"TICKET PRICE IS Rs.50\")\n",
        "    else:\n",
        "      print(\"enter either 'm' or 'f'\")\n",
        "      break\n",
        "\n",
        ""
      ],
      "metadata": {
        "colab": {
          "base_uri": "https://localhost:8080/"
        },
        "id": "x081D-H45erq",
        "outputId": "70a1e7fe-1fbe-454b-d7df-f7a54a5c9403"
      },
      "execution_count": 29,
      "outputs": [
        {
          "name": "stdout",
          "output_type": "stream",
          "text": [
            "ENTER THE AGE or PRESS 0 to exit\t3\n",
            "TICKET IS FREE\n",
            "ENTER THE AGE or PRESS 0 to exit\t61\n",
            "TICKET IS FREE\n",
            "ENTER THE AGE or PRESS 0 to exit\t5\n",
            "ENTER YOUR GENDER(m/f)\tm\n",
            "TICKET PRICE IS Rs.10\n",
            "ENTER THE AGE or PRESS 0 to exit\t5\n",
            "ENTER YOUR GENDER(m/f)\tf\n",
            "TICKET PRICE IS Rs.5\n",
            "ENTER THE AGE or PRESS 0 to exit\t12\n",
            "ENTER YOUR GENDER(m/f)\tm\n",
            "TICKET PRICE IS Rs.10\n",
            "ENTER THE AGE or PRESS 0 to exit\t12\n",
            "ENTER YOUR GENDER(m/f)\tf\n",
            "TICKET PRICE IS Rs.5\n",
            "ENTER THE AGE or PRESS 0 to exit\t60\n",
            "ENTER YOUR GENDER(m/f)\tm\n",
            "TICKET PRICE IS Rs.50\n",
            "ENTER THE AGE or PRESS 0 to exit\t60\n",
            "ENTER YOUR GENDER(m/f)\tf\n",
            "TICKET PRICE IS Rs.25\n",
            "ENTER THE AGE or PRESS 0 to exit\t61\n",
            "TICKET IS FREE\n",
            "ENTER THE AGE or PRESS 0 to exit\t0\n"
          ]
        }
      ]
    },
    {
      "cell_type": "code",
      "source": [],
      "metadata": {
        "id": "dMgPXRKo8plF"
      },
      "execution_count": null,
      "outputs": []
    }
  ]
}